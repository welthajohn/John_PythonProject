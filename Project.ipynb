{
 "cells": [
  {
   "cell_type": "code",
   "execution_count": 10,
   "id": "3fd9d550-485c-43df-8796-6c4d905da8e5",
   "metadata": {},
   "outputs": [
    {
     "name": "stdin",
     "output_type": "stream",
     "text": [
      "What's your age?  24\n"
     ]
    },
    {
     "name": "stdout",
     "output_type": "stream",
     "text": [
      "Please choose time unit: Months, Weeks, Days, Hours, Minutes, Seconds.\n"
     ]
    },
    {
     "name": "stdin",
     "output_type": "stream",
     "text": [
      "Note: You can write the first letter or the full name of the time unit.  Months\n"
     ]
    },
    {
     "name": "stdout",
     "output_type": "stream",
     "text": [
      "You lived for 288 Months\n"
     ]
    }
   ],
   "source": [
    "class SurvivalDurationCalculator:\n",
    "    def __init__(self, age):\n",
    "        self.age = age\n",
    "\n",
    "    def calculate_Survivalduration(self, unit):\n",
    "        if unit.lower() == \"months\" :\n",
    "            return self.age * 12\n",
    "        elif unit.lower() == \"weeks\":\n",
    "            return self.age * 52\n",
    "        elif unit.lower() == \"days\":\n",
    "            return self.age * 365\n",
    "        elif unit.lower() == \"hours\":\n",
    "            return self.age * 8760\n",
    "        elif unit.lower() == \"minutes\":\n",
    "            return self.age * 525600\n",
    "        elif unit.lower() == \"seconds\":\n",
    "            return self.age * 31536000\n",
    "        else:\n",
    "            return \"The Time unit which you enter is wrong\"\n",
    "\n",
    "age = int(input(\"What's your age? \"))\n",
    "calculator = SurvivalDurationCalculator(age)\n",
    "\n",
    "print(\"Please choose time unit: Months, Weeks, Days, Hours, Minutes, Seconds.\")\n",
    "unit = input(\"Note: You can write the first letter or the full name of the time unit. \")\n",
    "\n",
    "duration = calculator.calculate_Survivalduration(unit)\n",
    "\n",
    "if isinstance(duration, int):\n",
    "    print(f\"You lived for {duration} {unit}\")\n",
    "else:\n",
    "    print(duration)"
   ]
  },
  {
   "cell_type": "code",
   "execution_count": null,
   "id": "48711a87-be3d-4666-b0f5-fdb6ef93bd31",
   "metadata": {},
   "outputs": [],
   "source": []
  }
 ],
 "metadata": {
  "kernelspec": {
   "display_name": "Python 3 (ipykernel)",
   "language": "python",
   "name": "python3"
  },
  "language_info": {
   "codemirror_mode": {
    "name": "ipython",
    "version": 3
   },
   "file_extension": ".py",
   "mimetype": "text/x-python",
   "name": "python",
   "nbconvert_exporter": "python",
   "pygments_lexer": "ipython3",
   "version": "3.12.4"
  }
 },
 "nbformat": 4,
 "nbformat_minor": 5
}
